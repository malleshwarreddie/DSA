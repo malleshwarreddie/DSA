{
 "cells": [
  {
   "cell_type": "markdown",
   "id": "5470da5f",
   "metadata": {},
   "source": [
    "## BS with recursion"
   ]
  },
  {
   "cell_type": "code",
   "execution_count": 8,
   "id": "fd5af739",
   "metadata": {},
   "outputs": [
    {
     "name": "stdout",
     "output_type": "stream",
     "text": [
      "1 3 5 7 9\n",
      "10\n",
      "-1\n"
     ]
    }
   ],
   "source": [
    "def binary_search(user_list, ele, left,  right):\n",
    "    \n",
    "    if(left > right):\n",
    "        return -1\n",
    "    \n",
    "    mid = left + (right-left)//2\n",
    "    \n",
    "    if (user_list[mid]==ele):\n",
    "        return mid\n",
    "    \n",
    "    elif (user_list[mid]>ele):\n",
    "        return binary_search(user_list, ele, left, mid-1)\n",
    "        \n",
    "    else:\n",
    "        return binary_search(user_list, ele, mid+1, right)\n",
    "\n",
    "\n",
    "\n",
    "user_list = list(map(int,input().split()))\n",
    "ele = int(input())\n",
    "\n",
    "print(binary_search(user_list, ele, 0, len(user_list)-1))\n"
   ]
  },
  {
   "cell_type": "markdown",
   "id": "a544d6b0",
   "metadata": {},
   "source": [
    "## BS without recursion"
   ]
  },
  {
   "cell_type": "code",
   "execution_count": 12,
   "id": "a2b8141b",
   "metadata": {},
   "outputs": [
    {
     "name": "stdout",
     "output_type": "stream",
     "text": [
      "1 3 5 7 9\n",
      "8\n",
      "-1\n"
     ]
    }
   ],
   "source": [
    "def binary_search(user_list, ele, left,  right):\n",
    "    \n",
    "    while(left <= right):\n",
    "        \n",
    "        mid = left + (right-left)//2\n",
    "\n",
    "        if (user_list[mid]==ele):\n",
    "            return mid\n",
    "\n",
    "        elif (user_list[mid]>ele):\n",
    "            right = mid - 1\n",
    "\n",
    "        else:\n",
    "            left = mid + 1 \n",
    "    \n",
    "    \n",
    "    return -1\n",
    "\n",
    "\n",
    "user_list = list(map(int,input().split()))\n",
    "ele = int(input())\n",
    "\n",
    "print(binary_search(user_list, ele, 0, len(user_list)-1))"
   ]
  },
  {
   "cell_type": "code",
   "execution_count": null,
   "id": "e78e299c",
   "metadata": {},
   "outputs": [],
   "source": []
  }
 ],
 "metadata": {
  "kernelspec": {
   "display_name": "Python 3 (ipykernel)",
   "language": "python",
   "name": "python3"
  },
  "language_info": {
   "codemirror_mode": {
    "name": "ipython",
    "version": 3
   },
   "file_extension": ".py",
   "mimetype": "text/x-python",
   "name": "python",
   "nbconvert_exporter": "python",
   "pygments_lexer": "ipython3",
   "version": "3.11.5"
  }
 },
 "nbformat": 4,
 "nbformat_minor": 5
}
