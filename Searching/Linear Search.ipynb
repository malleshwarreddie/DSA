{
 "cells": [
  {
   "cell_type": "code",
   "execution_count": 4,
   "id": "fb480cb3",
   "metadata": {},
   "outputs": [
    {
     "name": "stdout",
     "output_type": "stream",
     "text": [
      "1 2 3 4 5 6\n",
      "9\n",
      "-1\n"
     ]
    }
   ],
   "source": [
    "def linear_search(user_list, search_ele):\n",
    "    \n",
    "    for i in range(len(user_list)):\n",
    "        \n",
    "        if user_list[i]==search_ele:\n",
    "            return i\n",
    "        \n",
    "    return -1\n",
    "        \n",
    "        \n",
    "\n",
    "\n",
    "\n",
    "user_list = list(map(int,input().split()))\n",
    "search_ele = int(input())\n",
    "\n",
    "print(linear_search(user_list,search_ele))"
   ]
  },
  {
   "cell_type": "code",
   "execution_count": null,
   "id": "426fe44c",
   "metadata": {},
   "outputs": [],
   "source": []
  }
 ],
 "metadata": {
  "kernelspec": {
   "display_name": "Python 3 (ipykernel)",
   "language": "python",
   "name": "python3"
  },
  "language_info": {
   "codemirror_mode": {
    "name": "ipython",
    "version": 3
   },
   "file_extension": ".py",
   "mimetype": "text/x-python",
   "name": "python",
   "nbconvert_exporter": "python",
   "pygments_lexer": "ipython3",
   "version": "3.11.5"
  }
 },
 "nbformat": 4,
 "nbformat_minor": 5
}
