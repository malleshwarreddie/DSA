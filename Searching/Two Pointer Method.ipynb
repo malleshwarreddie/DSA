{
 "cells": [
  {
   "cell_type": "markdown",
   "id": "9e232b91",
   "metadata": {},
   "source": [
    "### Consider an array [20, 40, 60, 80, 120,240]. Find a pair such that their sum will be 210 and return the indices of those pair."
   ]
  },
  {
   "cell_type": "code",
   "execution_count": 5,
   "id": "a8c54692",
   "metadata": {},
   "outputs": [
    {
     "name": "stdout",
     "output_type": "stream",
     "text": [
      "20 40 60 90 120 240\n",
      "100\n",
      "(1, 2)\n"
     ]
    }
   ],
   "source": [
    "def find_pair(user_list, pair_sum):\n",
    "    left = 0\n",
    "    right = len(user_list) - 1\n",
    "    \n",
    "    while left < right:\n",
    "        \n",
    "        if user_list[left] + user_list[right] == pair_sum:\n",
    "            return (left,right)\n",
    "        \n",
    "        elif user_list[left] + user_list[right] < pair_sum:\n",
    "            left+=1\n",
    "            \n",
    "        elif user_list[left] + user_list[right] > pair_sum:\n",
    "            right-=1\n",
    "            \n",
    "    return -1\n",
    "\n",
    "\n",
    "\n",
    "user_list = list(map(int, input().split()))\n",
    "pair_sum = int(input())\n",
    "\n",
    "print(find_pair(user_list, pair_sum))"
   ]
  },
  {
   "cell_type": "code",
   "execution_count": null,
   "id": "29eb89ff",
   "metadata": {},
   "outputs": [],
   "source": []
  }
 ],
 "metadata": {
  "kernelspec": {
   "display_name": "Python 3 (ipykernel)",
   "language": "python",
   "name": "python3"
  },
  "language_info": {
   "codemirror_mode": {
    "name": "ipython",
    "version": 3
   },
   "file_extension": ".py",
   "mimetype": "text/x-python",
   "name": "python",
   "nbconvert_exporter": "python",
   "pygments_lexer": "ipython3",
   "version": "3.11.5"
  }
 },
 "nbformat": 4,
 "nbformat_minor": 5
}
