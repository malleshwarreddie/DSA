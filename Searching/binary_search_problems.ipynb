{
 "cells": [
  {
   "cell_type": "markdown",
   "id": "d7dc738f",
   "metadata": {},
   "source": [
    "## Binary Search Assignment problems"
   ]
  },
  {
   "cell_type": "markdown",
   "id": "d148177e",
   "metadata": {},
   "source": [
    "1) You are a product manager and currently leading a team to develop a new product. Unfortunately, the latest version of your product fails the quality check. Since each version is developed based on the previous version, all the versions after a bad version are also bad. Suppose you have n version and you want to find out the first bad one, which causes all the following ones to be bad. Also, talk about the time complexity of your code.\n",
    "\n",
    "    Test Cases:\n",
    "    Input: [0,0,0,1,1,1,1,1,1]\n",
    "    Output: 3\n",
    "\n",
    "    Explanation: 0 indicates a good version and 1 indicates a bad version. So, the index of\n",
    "    the first 1 is at 3. Thus, the output is 3\n"
   ]
  },
  {
   "cell_type": "code",
   "execution_count": 1,
   "id": "351306c2",
   "metadata": {},
   "outputs": [
    {
     "name": "stdout",
     "output_type": "stream",
     "text": [
      "-1\n"
     ]
    }
   ],
   "source": [
    "def firstOne(arr):\n",
    "    left = 0\n",
    "    right = len(arr) - 1\n",
    "    \n",
    "    while left<=right:\n",
    "        \n",
    "        mid = left + (right - left)//2\n",
    "        \n",
    "        if arr[mid] == 1 and arr[mid-1]==0:\n",
    "            return mid\n",
    "        \n",
    "        elif arr[mid]==0:\n",
    "            left = mid + 1\n",
    "            \n",
    "        else:\n",
    "            right = mid - 1\n",
    "            \n",
    "    return -1\n",
    "        \n",
    "\n",
    "\n",
    "\n",
    "arr1 = [0, 0, 0, 0, 1, 1, 1, 1, 1]\n",
    "arr2 = [0, 0, 0, 0, 0, 0]\n",
    "result = firstOne(arr2)\n",
    "print(result)"
   ]
  },
  {
   "cell_type": "markdown",
   "id": "a1b7fd35",
   "metadata": {},
   "source": [
    "2) Given a positive integer num, write a program that returns True if num is a perfect square else return False. Do not use built-in functions like sqrt. Also, talk about the time complexity of your code.\n",
    "\n",
    "    Test Cases:\n",
    "\n",
    "    Input: 16\n",
    "    Output: True\n",
    "\n",
    "\n",
    "    Input: 14\n",
    "    Output: False"
   ]
  },
  {
   "cell_type": "code",
   "execution_count": 2,
   "id": "cfb811f7",
   "metadata": {},
   "outputs": [
    {
     "name": "stdout",
     "output_type": "stream",
     "text": [
      "True\n"
     ]
    }
   ],
   "source": [
    "def isSquare(num):\n",
    "    \n",
    "    x = 1\n",
    "    \n",
    "    while x*x<=num: #O(sqrt(n))\n",
    "\n",
    "        if(x*x==num):\n",
    "            return True\n",
    "        x+=1\n",
    "        \n",
    "    return False\n",
    "        \n",
    "\n",
    "\n",
    "num = 16\n",
    "print(isSquare(num))"
   ]
  },
  {
   "cell_type": "code",
   "execution_count": 3,
   "id": "7f4d0180",
   "metadata": {},
   "outputs": [
    {
     "name": "stdout",
     "output_type": "stream",
     "text": [
      "False\n",
      "True\n"
     ]
    }
   ],
   "source": [
    "def mySqrt(x):\n",
    "    \n",
    "    if x == 0 or x == 1:\n",
    "        return x\n",
    "    \n",
    "    left, right = 1, x\n",
    "    \n",
    "    while left <= right:\n",
    "        mid = left + (right - left) // 2\n",
    "        \n",
    "        if mid * mid == x:\n",
    "            return True\n",
    "        \n",
    "        elif mid * mid < x:\n",
    "            left = mid + 1\n",
    "\n",
    "        else:\n",
    "            right = mid - 1\n",
    "    \n",
    "    return False\n",
    "\n",
    "\n",
    "print(mySqrt(5))  # Output: 2\n",
    "print(mySqrt(36))  # Output: 2\n",
    "\n",
    "#Time Complexity: O(log(x))"
   ]
  },
  {
   "cell_type": "markdown",
   "id": "9846d404",
   "metadata": {},
   "source": [
    "3) Compute and return the square root of x, where x is guaranteed to be a non-negative integer. And since the return type is an integer, the decimal digits are truncated and only the integer part of the result is returned. Also, talk about the time complexity of your code.\n",
    "\n",
    "    Test Cases:\n",
    "\n",
    "    Input: 4\n",
    "    Output: 2\n",
    "\n",
    "    Input: 8\n",
    "    Output: 2\n",
    "\n",
    "    Explanation: The square root of 8 is 2.8284…., the decimal part is truncated and 2 is returned.\n"
   ]
  },
  {
   "cell_type": "code",
   "execution_count": 4,
   "id": "0e7d60bc",
   "metadata": {},
   "outputs": [
    {
     "name": "stdout",
     "output_type": "stream",
     "text": [
      "2\n",
      "5\n"
     ]
    }
   ],
   "source": [
    "def mySqrt(x):\n",
    "    \n",
    "    if x == 0 or x == 1:\n",
    "        return x\n",
    "    \n",
    "    left, right = 1, x\n",
    "    result = 0\n",
    "    \n",
    "    while left <= right:\n",
    "        mid = left + (right - left) // 2\n",
    "        \n",
    "        if mid * mid == x:\n",
    "            return mid\n",
    "        \n",
    "        elif mid * mid < x:\n",
    "            left = mid + 1\n",
    "            result = mid\n",
    "\n",
    "        else:\n",
    "            right = mid - 1\n",
    "    \n",
    "    return result\n",
    "\n",
    "\n",
    "print(mySqrt(4))  # Output: 2\n",
    "print(mySqrt(26))  # Output: 2\n",
    "\n",
    "#Time Complexity: O(log(x))"
   ]
  },
  {
   "cell_type": "code",
   "execution_count": null,
   "id": "4dbca68e-fcf2-46bd-9f62-4373b3dd6781",
   "metadata": {},
   "outputs": [],
   "source": []
  }
 ],
 "metadata": {
  "kernelspec": {
   "display_name": "Python 3 (ipykernel)",
   "language": "python",
   "name": "python3"
  },
  "language_info": {
   "codemirror_mode": {
    "name": "ipython",
    "version": 3
   },
   "file_extension": ".py",
   "mimetype": "text/x-python",
   "name": "python",
   "nbconvert_exporter": "python",
   "pygments_lexer": "ipython3",
   "version": "3.12.2"
  }
 },
 "nbformat": 4,
 "nbformat_minor": 5
}
